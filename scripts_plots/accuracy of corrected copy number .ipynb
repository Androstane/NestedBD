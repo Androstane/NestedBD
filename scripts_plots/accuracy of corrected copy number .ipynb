{
 "cells": [
  {
   "cell_type": "code",
   "execution_count": null,
   "metadata": {},
   "outputs": [],
   "source": [
    "import pandas as pd \n",
    "from collections import defaultdict\n",
    "import random\n",
    "import seaborn as sns\n",
    "import matplotlib.pyplot as plt\n",
    "from matplotlib.pyplot import figure\n",
    "%matplotlib inline\n",
    "random.seed(2)\n",
    "#figure(figsize=(12,6), dpi=300)\n",
    "def diff(L1, L2):\n",
    "    h, l1 = 0,0\n",
    "    nbin = min(len(L1), len(L2))\n",
    "    for i in range(0, nbin):\n",
    "        x, y = L1[i], L2[i]\n",
    "        h += (x != y)\n",
    "        l1 += abs(x-y)\n",
    "    return h/nbin, l1/nbin\n",
    "def to_dict(item):\n",
    "    item = pd.read_csv(item)\n",
    "    return item.to_dict(orient = 'list')\n",
    "map_ = {'gk': 'Ginkgo','nb':'Error Model \\nInferred topology', 'vf0':'Error Model \\nTrue topology'}"
   ]
  },
  {
   "cell_type": "code",
   "execution_count": null,
   "metadata": {},
   "outputs": [],
   "source": [
    "#n = 20\n",
    "random.seed(52)\n",
    "df = pd.DataFrame(columns = ['Method', 'Distance', 'Value'])\n",
    "for i in range(0,9):\n",
    "    #gt\n",
    "    gt = 'BD_output/simulated/20cell_halfevents/rep' + str(i) + '/gt_leaf.segcopy'\n",
    "    gt = pd.read_csv(gt, sep = '\\t')\n",
    "    gt.drop(columns = ['CHR', 'START','END '], inplace = True)\n",
    "    gt = gt.to_dict(orient = 'list')\n",
    "    #ginkgo\n",
    "    ginkgo = 'BD_output/simulated/20cell_halfevents/rep' + str(i) + '/gt.cnp'\n",
    "    ginkgo = pd.read_csv(ginkgo, sep = '\\t')\n",
    "    ginkgo.drop(columns = ['CHR', 'START','END'], inplace = True)\n",
    "    ginkgo = ginkgo.iloc[: , 1:]\n",
    "    ginkgo = ginkgo.to_dict(orient = 'list')\n",
    "    #others\n",
    "    nb = 'BD_output/simulated/20cell_halfevents/rep' + str(i) + '/cnp_vf0_mcctree.csv'\n",
    "    vf0 = 'BD_output/simulated/20cell_halfevents/rep' + str(i) + '/cnp_vf0_truetree.csv'\n",
    "    nb = to_dict(nb)\n",
    "    vf0 = to_dict(vf0)\n",
    "    dl, dh = defaultdict(int),defaultdict(int)\n",
    "    gt = {key.strip(): item for key, item in gt.items()}\n",
    "    l = list(gt.keys())\n",
    "    l = random.sample(l, 25)\n",
    "    for leaf in l:\n",
    "        gk1, gk2 = diff(gt[leaf], ginkgo[leaf])\n",
    "        dh['gk'] += min(gk1, gk2)\n",
    "        dl['gk'] += max(gk1, gk2)\n",
    "        nb1, nb2 = diff(gt[leaf], nb[leaf])\n",
    "        dh['nb'] += min(nb1, nb2)\n",
    "        dl['nb'] += max(nb1, nb2)\n",
    "        vf01, vf02 = diff(gt[leaf], vf0[leaf])\n",
    "        dh['vf0'] += min(vf01, vf02)\n",
    "        dl['vf0'] += max(vf01, vf02)\n",
    "    dl = {item/(1.0*len(list(gt.keys()))) for key, item in dl.items()}\n",
    "    dh = {item/(1.0*len(list(gt.keys()))) for key, item in dh.items()}\n",
    "    for key, item in dl.items():\n",
    "        df2 = [map_[key],'Average L1 norm between true and estiamted integer copy number', item]\n",
    "        df.loc[len(df)] = df2\n",
    "        #df = df.append(df2,ignore_index = True)\n",
    "    for key, item in dh.items():\n",
    "        df2 = [map_[key],'Average Hamming distance between true and estimated integer copy number',item]\n",
    "        df.loc[len(df)] = df2\n",
    "        #df = df.append(df2,ignore_index = True)\n",
    "df.to_csv('BD_output/figure_data/n20_c90_cnp.csv')"
   ]
  },
  {
   "cell_type": "code",
   "execution_count": null,
   "metadata": {},
   "outputs": [],
   "source": [
    "#sns.set(rc={'axes.facecolor':'white', 'figure.facecolor':'white'})\n",
    "#sns.set_context(\"paper\")\n",
    "figure(figsize=(9,6), dpi=300)\n",
    "df = pd.read_csv('BD_output/figure_data/n20_c90_cnp.csv')\n",
    "sns.set_theme(style=\"whitegrid\")\n",
    "#sns.set_theme(style=\"white\")\n",
    "#sns.set(rc = {'figure.figsize':(16,8)})\n",
    "ax = sns.boxplot(x=\"Method\", y=\"Value\", hue=\"Distance\", data=df, linewidth=1.5, width = 0.5,whis = 2,\n",
    "                 order=[map_['gk'],map_['nb'], map_['vf0']],\n",
    "                hue_order= ['Average Hamming distance between true and estimated integer copy number','Average L1 norm between true and estiamted integer copy number'])\n",
    "ax.spines['right'].set_visible(False)\n",
    "ax.spines['top'].set_visible(False)\n",
    "plt.ylim(0, 0.5)\n",
    "plt.ylabel('Value', fontsize = 16)\n",
    "plt.xlabel('N = 20, c = 90', fontsize = 16)\n",
    "plt.legend(loc='upper right', borderaxespad=1 ,fontsize='10')\n",
    "plt.show()"
   ]
  },
  {
   "cell_type": "code",
   "execution_count": null,
   "metadata": {},
   "outputs": [],
   "source": []
  }
 ],
 "metadata": {
  "kernelspec": {
   "display_name": "Python 3",
   "language": "python",
   "name": "python3"
  },
  "language_info": {
   "codemirror_mode": {
    "name": "ipython",
    "version": 3
   },
   "file_extension": ".py",
   "mimetype": "text/x-python",
   "name": "python",
   "nbconvert_exporter": "python",
   "pygments_lexer": "ipython3",
   "version": "3.8.5"
  }
 },
 "nbformat": 4,
 "nbformat_minor": 4
}
